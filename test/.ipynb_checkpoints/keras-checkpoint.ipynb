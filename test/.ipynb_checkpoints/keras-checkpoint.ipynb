{
 "cells": [
  {
   "cell_type": "code",
   "execution_count": 1,
   "metadata": {
    "collapsed": false,
    "scrolled": false
   },
   "outputs": [
    {
     "name": "stderr",
     "output_type": "stream",
     "text": [
      "Using TensorFlow backend.\n",
      "[2016-08-29 15:09:28,678] Making new env: MountainCarContinuous-v0\n"
     ]
    },
    {
     "name": "stdout",
     "output_type": "stream",
     "text": [
      "____________________________________________________________________________________________________\n",
      "Layer (type)                     Output Shape          Param #     Connected to                     \n",
      "====================================================================================================\n",
      "dense_1 (Dense)                  (None, 5)             15          dense_input_1[0][0]              \n",
      "____________________________________________________________________________________________________\n",
      "activation_1 (Activation)        (None, 5)             0           dense_1[0][0]                    \n",
      "____________________________________________________________________________________________________\n",
      "dense_2 (Dense)                  (None, 5)             30          activation_1[0][0]               \n",
      "____________________________________________________________________________________________________\n",
      "activation_2 (Activation)        (None, 5)             0           dense_2[0][0]                    \n",
      "____________________________________________________________________________________________________\n",
      "dense_3 (Dense)                  (None, 1)             6           activation_2[0][0]               \n",
      "____________________________________________________________________________________________________\n",
      "activation_3 (Activation)        (None, 1)             0           dense_3[0][0]                    \n",
      "====================================================================================================\n",
      "Total params: 51\n",
      "____________________________________________________________________________________________________\n",
      "None\n"
     ]
    }
   ],
   "source": [
    "import numpy as np\n",
    "\n",
    "from DDPG.test.helpers.draw import draw_policy, run\n",
    "from DDPG.core.helpers.Chrono import Chrono\n",
    "\n",
    "import matplotlib.pyplot as plt\n",
    "\n",
    "from simple_keras_net import Keras_NN\n",
    "\n",
    "import gym\n",
    "env = gym.make('MountainCarContinuous-v0')\n",
    "#env = gym.make('Pendulum-v0')\n",
    "\n",
    "layer_nb=0\n",
    "agent = Keras_NN(2,1)\n",
    "agent.save_theta(\"keras_net.save\")\n",
    "glob_scale = 10\n",
    "        \n",
    "def draw_varying_policy_1D(agent,numpoids,scale):\n",
    "    plt.close()\n",
    "    nb_values = int(200/scale)\n",
    "    poids = -1.\n",
    "    save = agent.get_param(layer_nb,numpoids)\n",
    "    for j in range(nb_values):\n",
    "        poids += 0.01*scale\n",
    "        agent.set_param(layer_nb,numpoids,poids)\n",
    "        global_reward = run(agent,env,False,False)\n",
    "        plt.scatter(poids,global_reward, c=\"white\")\n",
    "    agent.set_param(layer_nb,numpoids,save)\n",
    "    plt.show(block=False)\n",
    "        \n",
    "def draw_varying_policy_2D(agent,numpoids1,numpoids2,scale):\n",
    "    plt.close()\n",
    "    nb_values = int(200/scale)\n",
    "    img = np.zeros((nb_values, nb_values))\n",
    "    poids1 = -1.\n",
    "    save1 = agent.get_param(layer_nb,numpoids1)\n",
    "    save2 = agent.get_param(layer_nb,numpoids2)\n",
    "    for j in range(nb_values):\n",
    "        poids2 = -1.\n",
    "        poids1 += 0.01*scale\n",
    "        for i in range(nb_values):\n",
    "            poids2 += 0.01*scale\n",
    "            agent.set_param(layer_nb,numpoids1,poids1)\n",
    "            agent.set_param(layer_nb,numpoids2,poids2)\n",
    "            global_reward = run(agent,env,False,False)\n",
    "            img[i][j] = global_reward\n",
    "\n",
    "    agent.set_param(layer_nb,numpoids1,save1)\n",
    "    agent.set_param(layer_nb,numpoids2,save2)\n",
    "    plt.imshow(img, extent=(-1.0,1.0,-1.0,1.0))\n",
    "    plt.show(block=False)\n",
    "\n",
    "def doEp(agent,M):\n",
    "    agent.perform_M_episodes(M)\n",
    "    draw_policy(agent,env)\n",
    "\n",
    "def doInit():\n",
    "    for i in range(10):\n",
    "        agent = Keras_NN(2,1)\n",
    "        draw_policy(agent,env)\n",
    "\n",
    "def do_weight_study_1D_light(agent):\n",
    "    c=Chrono()\n",
    "    nb_poids = agent.get_nb_weights(layer_nb)\n",
    "    print('nb poids', nb_poids)\n",
    "    for numpoids in range(nb_poids):\n",
    "        print('numpoids',numpoids)\n",
    "        draw_varying_policy_1D(agent,numpoids,glob_scale)\n",
    "    c.stop()\n",
    "\n",
    "def do_weight_study_2D(agent):\n",
    "    nb_poids = agent.get_nb_weights(layer_nb)\n",
    "    for numpoids1 in range(nb_poids):\n",
    "        for numpoids2 in range(nb_poids):\n",
    "            c2=Chrono()\n",
    "            if numpoids2==numpoids1:\n",
    "                    numpoids2+=1\n",
    "            print(numpoids1,\"x\",numpoids2)\n",
    "            draw_varying_policy_2D(agent,numpoids1,numpoids2,glob_scale)\n",
    "            c2.stop()\n",
    "\n",
    "def load(agent):\n",
    "    agent.load_theta(\"keras_net.save\")\n",
    "\n",
    "def do_full_weight_study(agent):\n",
    "    nb_poids = agent.get_nb_weights(layer_nb)\n",
    "    for numpoids in range(nb_poids):\n",
    "        c=Chrono()\n",
    "        print('numpoids',numpoids)\n",
    "        draw_varying_policy_1D(agent,numpoids,glob_scale)\n",
    "        c.stop()\n",
    "\n",
    "    for numpoids1 in range(nb_poids):\n",
    "        for numpoids2 in range(nb_poids):\n",
    "            c2=Chrono()\n",
    "            if numpoids2==numpoids1:\n",
    "                    numpoids2+=1\n",
    "            print(numpoids1,\"x\",numpoids2)\n",
    "            draw_varying_policy_2D(agent,numpoids1,numpoids2,glob_scale)\n",
    "            c2.stop()\n"
   ]
  },
  {
   "cell_type": "code",
   "execution_count": 2,
   "metadata": {
    "collapsed": false,
    "scrolled": true
   },
   "outputs": [
    {
     "data": {
      "text/plain": [
       "[array([[ 0.56543648, -0.1636861 ,  0.34600115, -0.73112833,  0.91634452],\n",
       "        [-0.24639291,  0.39208949,  0.55670309, -0.43629166, -0.51918608]], dtype=float32),\n",
       " array([ 0.,  0.,  0.,  0.,  0.], dtype=float32),\n",
       " array([[-31.68691254,  34.66582489,  15.02895451,  25.52131271,   0.4433524 ],\n",
       "        [ 31.18646622, -48.56953812, -54.82791901, -46.28338623,  10.0339756 ],\n",
       "        [-11.44748974,  -2.26176715, -61.44525146,  18.03652382,\n",
       "          37.59939194],\n",
       "        [ -6.54804087,  58.25911713, -15.26277542,  49.82223129,\n",
       "         -15.88797283],\n",
       "        [-25.42221832,  -7.25070143, -21.57265854,  -7.81077576,\n",
       "         -39.10474396]], dtype=float32),\n",
       " array([ 0.,  0.,  0.,  0.,  0.], dtype=float32),\n",
       " array([[-0.29609513],\n",
       "        [-0.97723603],\n",
       "        [-0.69331074],\n",
       "        [-0.76761293],\n",
       "        [-0.77685118]], dtype=float32),\n",
       " array([ 0.], dtype=float32)]"
      ]
     },
     "execution_count": 2,
     "metadata": {},
     "output_type": "execute_result"
    }
   ],
   "source": [
    "agent.load_theta('cma_agents/best_agent.theta-0.332145665606')"
   ]
  },
  {
   "cell_type": "code",
   "execution_count": 4,
   "metadata": {
    "collapsed": false,
    "scrolled": false
   },
   "outputs": [
    {
     "name": "stdout",
     "output_type": "stream",
     "text": [
      "('policy min : ', array([-0.99821788], dtype=float32), 'policy max : ', array([ 0.99821788], dtype=float32))\n"
     ]
    },
    {
     "data": {
      "image/png": "[encoded data removed]",
      "text/plain": [
       "<matplotlib.figure.Figure at 0x9761d10>"
      ]
     },
     "metadata": {},
     "output_type": "display_data"
    }
   ],
   "source": [
    "draw_policy(agent,env)"
   ]
  },
  {
   "cell_type": "code",
   "execution_count": 3,
   "metadata": {
    "collapsed": false,
    "scrolled": false
   },
   "outputs": [
    {
     "name": "stdout",
     "output_type": "stream",
     "text": [
      "('policy min : ', array([-0.99821788], dtype=float32), 'policy max : ', array([ 0.99821788], dtype=float32))\n"
     ]
    },
    {
     "data": {
      "image/png": "[encoded data removed]",
      "text/plain": [
       "<matplotlib.figure.Figure at 0x61e40d0>"
      ]
     },
     "metadata": {},
     "output_type": "display_data"
    }
   ],
   "source": [
    "draw_policy(agent,env)"
   ]
  },
  {
   "cell_type": "code",
   "execution_count": null,
   "metadata": {
    "collapsed": true
   },
   "outputs": [],
   "source": []
  }
 ],
 "metadata": {
  "kernelspec": {
   "display_name": "Python 2",
   "language": "python",
   "name": "python2"
  },
  "language_info": {
   "codemirror_mode": {
    "name": "ipython",
    "version": 2
   },
   "file_extension": ".py",
   "mimetype": "text/x-python",
   "name": "python",
   "nbconvert_exporter": "python",
   "pygments_lexer": "ipython2",
   "version": "2.7.6"
  }
 },
 "nbformat": 4,
 "nbformat_minor": 1
}
