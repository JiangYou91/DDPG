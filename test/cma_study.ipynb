{
 "cells": [
  {
   "cell_type": "code",
   "execution_count": 3,
   "metadata": {
    "collapsed": false
   },
   "outputs": [],
   "source": [
    "import numpy as np\n",
    "\n",
    "import cma\n",
    "import sys\n",
    "import math\n",
    "\n",
    "from DDPG.test.helpers.draw import draw_policy, run\n",
    "from DDPG.core.helpers.Chrono import Chrono\n",
    "\n",
    "import matplotlib.pyplot as plt\n",
    "\n",
    "from simple_keras_net import Keras_NN\n",
    "\n",
    "import gym\n",
    "\n",
    "#env = gym.make('Pendulum-v0')\n",
    "layer_nb = 4\n",
    "sigma = 0.5\n",
    "\n",
    "numpoids1 = 2\n",
    "numpoids2 = 4\n",
    "scale = 5\n",
    "\n",
    "class CMA():\n",
    "\n",
    "    def __init__(self):\n",
    "        '''\n",
    "\tInput:\n",
    "        '''\n",
    "        self.env = gym.make('MountainCarContinuous-v0')\n",
    "        self.env.reset(False)\n",
    "        self.controller = Keras_NN(2,1)\n",
    "        self.controller.load_theta('cma_agents/best_agent.theta959')\n",
    "        self.nb_episodes = 0\n",
    "        self.options = cma.CMAOptions()\n",
    "        self.options['maxiter']=200\n",
    "        self.options['popsize']=50\n",
    "        self.options['CMA_diagonal']=True\n",
    "        self.options['verb_log']=50\n",
    "        self.options['verb_disp']=1\n",
    "        self.best_perf = -10000.0\n",
    "        self.controller.set_param(layer_nb, numpoids1, 0.1)\n",
    "        self.controller.set_param(layer_nb, numpoids2, 0.85)\n",
    "        self.green_dots = []\n",
    "        self.white_dots = []\n",
    "        self.black_dots = []\n",
    "\n",
    "        self.xmin = 10000\n",
    "        self.ymin = 10000\n",
    "        self.xmax = -10000\n",
    "        self.ymax = -10000\n",
    "\n",
    "    def final_draw(self):\n",
    "        plt.close()\n",
    "        self.draw_cost_landscape(self.controller,numpoids1,numpoids2,scale)\n",
    "        for i in range(len(self.black_dots)):\n",
    "            plt.scatter(self.black_dots[i][0], self.black_dots[i][1], c=\"black\")\n",
    "        for i in range(len(self.green_dots)):\n",
    "            plt.scatter(self.green_dots[i][0], self.green_dots[i][1], c=\"green\")\n",
    "        for i in range(len(self.white_dots)):\n",
    "            plt.scatter(self.white_dots[i][0], self.white_dots[i][1], c=\"white\")\n",
    "        plt.show(block=False)\n",
    "\n",
    "        \n",
    "    def draw_cost_landscape(self,agent,numpoids1,numpoids2,scale):\n",
    "        x_range = self.xmax -self.xmin\n",
    "        y_range = self.ymax -self.ymin\n",
    "        scale = max(1, scale * max(x_range,y_range)/2)\n",
    "        nb_valuesx = int(x_range*100/scale)\n",
    "        nb_valuesy = int(y_range*100/scale)\n",
    "        \n",
    "        img = np.zeros((nb_valuesx, nb_valuesy))\n",
    "        poids1 = self.xmin\n",
    "        save1 = agent.get_param(layer_nb,numpoids1)\n",
    "        save2 = agent.get_param(layer_nb,numpoids2)\n",
    "        \n",
    "        for i in range(nb_valuesx):\n",
    "            poids2 = self.ymin\n",
    "            poids1 += 0.01*scale\n",
    "            for j in range(nb_valuesy):\n",
    "                poids2 += 0.01*scale\n",
    "                agent.set_param(layer_nb,numpoids1,poids1)\n",
    "                agent.set_param(layer_nb,numpoids2,poids2)\n",
    "                global_reward = run(agent,self.env,False,False)\n",
    "                img[i][j] = global_reward\n",
    "\n",
    "        agent.set_param(layer_nb,numpoids1,save1)\n",
    "        agent.set_param(layer_nb,numpoids2,save2)\n",
    "        plt.imshow(img, extent=(self.xmin,self.xmax,self.ymin,self.ymax))\n",
    "\n",
    "    def run_episode(self,x):\n",
    "        w1 = x[0]\n",
    "        w2 = x[1]\n",
    "        self.controller.set_param(layer_nb, numpoids1, w1)\n",
    "        self.controller.set_param(layer_nb, numpoids2, w2)\n",
    "        if w1>self.xmax: self.xmax = w1\n",
    "        if w1<self.xmin: self.xmin = w1\n",
    "        if w2>self.ymax: self.ymax = w2\n",
    "        if w2<self.ymin: self.ymin = w2\n",
    "        self.nb_episodes += 1\n",
    "        perf = run(self.controller, self.env, False, False)\n",
    "        if (perf>self.best_perf):\n",
    "            self.black_dots.append([w1,w2])\n",
    "            self.best_perf=perf\n",
    "            self.controller.save_theta('cma_agents/best_agent.theta'+str(perf))\n",
    "            print('episode',self.nb_episodes, 'perf', perf)\n",
    "        else:\n",
    "            self.white_dots.append([w1,w2])\n",
    "        return -perf\n",
    "\n",
    "    def call_cma(self):\n",
    "        w1=  self.controller.get_weight(layer_nb, numpoids1)[0]\n",
    "        w2=  self.controller.get_weight(layer_nb, numpoids2)[0]\n",
    "        x = np.array([w1,w2])\n",
    "        self.green_dots.append([w1,w2])\n",
    "        fx = cma.fmin(self.run_episode, x, sigma, options = self.options)\n",
    "        self.final_draw()\n"
   ]
  },
  {
   "cell_type": "code",
   "execution_count": 4,
   "metadata": {
    "collapsed": false,
    "scrolled": true
   },
   "outputs": [
    {
     "name": "stderr",
     "output_type": "stream",
     "text": [
      "[2016-08-31 14:14:12,678] Making new env: MountainCarContinuous-v0\n"
     ]
    },
    {
     "name": "stdout",
     "output_type": "stream",
     "text": [
      "____________________________________________________________________________________________________\n",
      "Layer (type)                     Output Shape          Param #     Connected to                     \n",
      "====================================================================================================\n",
      "dense_4 (Dense)                  (None, 5)             15          dense_input_2[0][0]              \n",
      "____________________________________________________________________________________________________\n",
      "activation_4 (Activation)        (None, 5)             0           dense_4[0][0]                    \n",
      "____________________________________________________________________________________________________\n",
      "dense_5 (Dense)                  (None, 5)             30          activation_4[0][0]               \n",
      "____________________________________________________________________________________________________\n",
      "activation_5 (Activation)        (None, 5)             0           dense_5[0][0]                    \n",
      "____________________________________________________________________________________________________\n",
      "dense_6 (Dense)                  (None, 1)             6           activation_5[0][0]               \n",
      "____________________________________________________________________________________________________\n",
      "activation_6 (Activation)        (None, 1)             0           dense_6[0][0]                    \n",
      "====================================================================================================\n",
      "Total params: 51\n",
      "____________________________________________________________________________________________________\n",
      "None\n",
      "(25_w,50)-aCMA-ES (mu_w=14.0,w_1=14%) in dimension 2 (seed=743198, Wed Aug 31 14:14:12 2016)\n",
      "   Covariance matrix is diagonal\n",
      "('episode', 1, 'perf', 954)\n",
      "('episode', 2, 'perf', 955)\n",
      "('episode', 3, 'perf', 958)\n",
      "Iterat #Fevals   function value  axis ratio  sigma  min&max std  t[m:s]\n",
      "    1     50 -9.580000000000000e+02 1.2e+00 7.41e-01  6e-01  7e-01 0:2.0\n",
      "('episode', 53, 'perf', 959)\n",
      "    2    100 -9.590000000000000e+02 2.2e+00 1.48e+00  1e+00  2e+00 0:3.9\n",
      "    3    150 -9.590000000000000e+02 3.3e+00 2.48e+00  1e+00  4e+00 0:5.7\n",
      "    4    200 -9.590000000000000e+02 3.1e+00 3.24e+00  2e+00  5e+00 0:8.7\n",
      "    5    250 -9.590000000000000e+02 3.7e+00 4.09e+00  2e+00  6e+00 0:11.6\n",
      "    6    300 -9.590000000000000e+02 4.3e+00 5.31e+00  2e+00  8e+00 0:13.4\n",
      "    7    350 -9.590000000000000e+02 4.3e+00 5.81e+00  2e+00  7e+00 0:15.5\n",
      "    8    400 -9.590000000000000e+02 3.4e+00 5.31e+00  2e+00  6e+00 0:17.4\n",
      "    9    450 -9.590000000000000e+02 2.6e+00 4.79e+00  2e+00  4e+00 0:19.0\n",
      "   10    500 -9.590000000000000e+02 2.6e+00 4.26e+00  1e+00  3e+00 0:20.2\n",
      "Iterat #Fevals   function value  axis ratio  sigma  min&max std  t[m:s]\n",
      "   11    550 -9.590000000000000e+02 1.7e+00 4.88e+00  2e+00  3e+00 0:21.5\n",
      "   12    600 -9.590000000000000e+02 1.8e+00 4.42e+00  1e+00  2e+00 0:22.7\n",
      "termination on flat fitness: please (re)consider how to compute the fitness more elaborate=None (Wed Aug 31 14:14:27 2016)\n",
      "termination on tolfun=1e-11 (Wed Aug 31 14:14:27 2016)\n",
      "termination on tolfunhist=1e-12 (Wed Aug 31 14:14:27 2016)\n",
      "final/bestever f-value = -9.590000e+02 -9.590000e+02\n",
      "incumbent solution: [-15.302377016694185, -0.12510862336666961]\n",
      "std deviation: [1.7519814145992192, 0.95154578385193533]\n",
      "('param', -15.302377)\n",
      "('param', -0.12510863)\n"
     ]
    },
    {
     "data": {
      "image/png": "[encoded data removed]",
      "text/plain": [
       "<matplotlib.figure.Figure at 0x7fec17677690>"
      ]
     },
     "metadata": {},
     "output_type": "display_data"
    }
   ],
   "source": [
    "optim = CMA()\n",
    "optim.call_cma()"
   ]
  },
  {
   "cell_type": "code",
   "execution_count": 5,
   "metadata": {
    "collapsed": false
   },
   "outputs": [
    {
     "name": "stdout",
     "output_type": "stream",
     "text": [
      "('param', -6.5138311)\n",
      "('param', 0.89921749)\n"
     ]
    },
    {
     "data": {
      "image/png": "[encoded data removed]",
      "text/plain": [
       "<matplotlib.figure.Figure at 0x7f96789ae890>"
      ]
     },
     "metadata": {},
     "output_type": "display_data"
    }
   ],
   "source": [
    "optim.final_draw()\n"
   ]
  },
  {
   "cell_type": "code",
   "execution_count": null,
   "metadata": {
    "collapsed": true
   },
   "outputs": [],
   "source": []
  }
 ],
 "metadata": {
  "kernelspec": {
   "display_name": "Python 2",
   "language": "python",
   "name": "python2"
  },
  "language_info": {
   "codemirror_mode": {
    "name": "ipython",
    "version": 2
   },
   "file_extension": ".py",
   "mimetype": "text/x-python",
   "name": "python",
   "nbconvert_exporter": "python",
   "pygments_lexer": "ipython2",
   "version": "2.7.12"
  }
 },
 "nbformat": 4,
 "nbformat_minor": 1
}
